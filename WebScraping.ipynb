{
 "cells": [
  {
   "cell_type": "code",
   "execution_count": 1,
   "id": "1456ad6c",
   "metadata": {},
   "outputs": [],
   "source": [
    "import requests\n",
    "import logging\n",
    "import os\n",
    "from bs4 import BeautifulSoup\n",
    "from urllib.request import urlopen"
   ]
  },
  {
   "cell_type": "code",
   "execution_count": 13,
   "id": "e5e1aa51",
   "metadata": {},
   "outputs": [],
   "source": [
    "# To save the images into the \"folder\"\n",
    "save_dir=\"images/\"\n",
    "\n",
    "# To create a folders if it not exists or we want to create a folders then we use the OS package to do that\n",
    "if not os.path.exists(save_dir):\n",
    "    os.makedirs(save_dir)"
   ]
  },
  {
   "cell_type": "code",
   "execution_count": 25,
   "id": "538a03fb",
   "metadata": {},
   "outputs": [
    {
     "name": "stdout",
     "output_type": "stream",
     "text": [
      "Ex:Sri KrishnaBalarama Krishna\n"
     ]
    }
   ],
   "source": [
    "# Enter the name to download the images\n",
    "query=input(\"Ex:Sri Krishna\")\n",
    "\n",
    "# below url is copied from web url bar by searching images in google\n",
    "url=f'https://www.google.com/search?sca_esv=555163477&sxsrf=AB5stBj_z9IQsMYJEiW3Es_9yesafHfUDw:1691596568335&q={query}&tbm=isch&source=lnms&sa=X&ved=2ahUKEwiA6buk-M-AAxXGamwGHUi2DgYQ0pQJegQIDRAB&biw=1536&bih=803&dpr=1.25'\n",
    "\n",
    "# to get response from the above url we need to use the request package to get the response from the url\n",
    "response=requests.get(url)"
   ]
  },
  {
   "cell_type": "code",
   "execution_count": 16,
   "id": "51273ec2",
   "metadata": {},
   "outputs": [],
   "source": [
    "# For Interview preparation\n",
    "#Parsing:\n",
    "# When you provide an HTML document to BeautifulSoup with the html.parser parser, \n",
    "# the library reads the HTML and creates a hierarchical data structure known as a parse tree. \n",
    "# This tree represents the structure of the HTML document.\n",
    "\n",
    "#Traversal: \n",
    "# Once the parse tree is created, you can navigate through it using BeautifulSoup's methods and attributes. \n",
    "# This allows you to locate specific elements, extract data, and perform various operations on the HTML content.\n",
    "\n",
    "#Data Extraction: \n",
    "# With BeautifulSoup, you can easily extract data from HTML elements, such as text, attributes, and more. \n",
    "# This is particularly useful for web scraping tasks where you want to extract specific information from web pages.\n"
   ]
  },
  {
   "cell_type": "code",
   "execution_count": 17,
   "id": "c1d6f150",
   "metadata": {},
   "outputs": [],
   "source": [
    "# To scrap the HTML/XML page beautiful soup is required to do that\n",
    "# for the purpose of fetch the any data from the HTML/XML page\n",
    "# html.parser is used to align the html code in a proper way / structured way\n",
    "soup = BeautifulSoup(response.content,\"html.parser\")"
   ]
  },
  {
   "cell_type": "code",
   "execution_count": 18,
   "id": "2a34b596",
   "metadata": {},
   "outputs": [
    {
     "data": {
      "text/plain": [
       "<!DOCTYPE html PUBLIC \"-//WAPFORUM//DTD XHTML Mobile 1.0//EN\" \"http://www.wapforum.org/DTD/xhtml-mobile10.dtd\">\n",
       "<html lang=\"en-IN\" xmlns=\"http://www.w3.org/1999/xhtml\"><head><meta content=\"application/xhtml+xml; charset=utf-8\" http-equiv=\"Content-Type\"/><meta content=\"no-cache\" name=\"Cache-Control\"/><title>Hey Radha Krishna - Google Search</title><style>a{text-decoration:none;color:inherit}a:hover{text-decoration:underline}a img{border:0}body{font-family:arial,sans-serif;padding:8px;margin:0 auto;max-width:700px;min-width:240px;}.FbhRzb{border-left:thin solid #dadce0;border-right:thin solid #dadce0;border-top:thin solid #dadce0;height:40px;overflow:hidden}.n692Zd{margin-bottom:10px}.cvifge{height:40px;border-spacing:0}.QvGUP{height:40px;padding:0 8px 0 8px;vertical-align:top}.O4cRJf{height:40px;width:100%;padding:0;padding-right:16px}.O1ePr{height:40px;padding:0;vertical-align:top}.kgJEQe{height:36px;width:98px;vertical-align:top;margin-top:4px}.lXLRf{vertical-align:top}.MhzMZd{border:0;vertical-align:middle;font-size:14px;height:40px;padding:0;width:100%;padding-left:16px}.xB0fq{height:40px;border:none;font-size:14px;background-color:#1a73e8;color:#fff;padding:0 16px;margin:0;vertical-align:top;cursor:pointer}.xB0fq:focus{border:1px solid #1a73e8}.M7pB2{border:thin solid #dadce0;margin:0 0 3px 0;font-size:13px;font-weight:500;height:40px}.euZec{width:100%;height:40px;text-align:center;border-spacing:0}table.euZec td{padding:0;width:25%}.QIqI7{display:inline-block;padding-top:4px;font-weight:bold;color:#4285f4}.EY24We{border-bottom:2px solid #4285f4}.CsQyDc{display:inline-block;color:#70757a}.TuS8Ad{font-size:14px}.HddGcc{padding:8px;color:#70757a}.dzp8ae{font-weight:bold;color:#3c4043}.rEM8G{color:#70757a}.bookcf{table-layout:fixed;width:100%;border-spacing:0}.InWNIe{text-align:center}.uZgmoc{border:thin solid #dadce0;color:#70757a;font-size:14px;text-align:center;table-layout:fixed;width:100%}.frGj1b{display:block;padding:12px 0 12px 0;width:100%}.BnJWBc{text-align:center;padding:6px 0 13px 0;height:35px}.e3goi{vertical-align:top;padding:0;height:180px}.GpQGbf{margin:auto;border-collapse:collapse;border-spacing:0;width:100%}</style></head><body><style>.X6ZCif{color:#202124;font-size:11px;line-height:16px;display:inline-block;padding-top:2px;overflow:hidden;padding-bottom:4px;width:100%}.TwVfHd{border-radius:16px;border:thin solid #dadce0;display:inline-block;padding:8px 8px;margin-right:8px;margin-bottom:4px}.yekiAe{background-color:#dadce0}.mnTahd{width:100%}.ezO2md{border:thin solid #dadce0;padding:12px 16px 12px 16px;margin-bottom:10px;font-family:arial,sans-serif}.lIMUZd{font-family:arial,sans-serif}.IkMU6e{border-spacing:0}.SjCsie{width:100%}.EnarA{text-align:center}.NZWO1b{width:162px;height:140px;line-height:140px;overflow:'hidden';text-align:center}.yWs4tf{text-align:center;margin:auto;vertical-align:middle;max-width:162px;max-height:140px}.jB2rPd{padding-top:2px;padding-bottom:8px;}.fYyStc{word-break:break-word}.ynsChf{display:block;white-space:nowrap;overflow:hidden;text-overflow:ellipsis}.Fj3V3b{color:#1967d2;font-size:14px;line-height:20px}.FrIlee{color:#202124;font-size:11px;line-height:16px}.F9iS2e{color:#70757a;font-size:11px;line-height:16px}.WMQ2Le{color:#70757a;font-size:12px;line-height:16px}.x3G5ab{color:#202124;font-size:12px;line-height:16px}.fuLhoc{color:#1967d2;font-size:16px;line-height:20px}.epoveb{font-size:24px;line-height:28px;font-weight:400;color:#202124}.dXDvrc{color:#0d652d;font-size:14px;line-height:20px;word-wrap:break-word}.dloBPe{font-weight:bold}.YVIcad{color:#70757a}.JkVVdd{color:#ea4335}.oXZRFd{color:#ea4335}.MQHtg{color:#fbbc04}.pyMRrb{color:#1e8e3e}.EtTZid{color:#1e8e3e}.M3vVJe{color:#1967d2}.qXLe6d{display:block}.NHQNef{font-style:italic}.Cb8Z7c{white-space:pre}a.ZWRArf{text-decoration:none}a .CVA68e:hover{text-decoration:underline}</style><div class=\"n692Zd\"><div class=\"BnJWBc\"><a class=\"lXLRf\" href=\"/?sa=X&amp;sca_esv=555163477&amp;biw=1536&amp;bih=803&amp;output=images&amp;ie=UTF-8&amp;tbm=isch&amp;ved=0ahUKEwjR4Kz4hNCAAxXDnGMGHTDWBHsQPAgC\"><img alt=\"Google\" class=\"kgJEQe\" src=\"/images/branding/searchlogo/1x/googlelogo_desk_heirloom_color_150x55dp.gif\"/></a></div><div class=\"FbhRzb\"><form action=\"/search\"><input name=\"sca_esv\" type=\"hidden\" value=\"555163477\"/><input name=\"biw\" type=\"hidden\" value=\"1536\"/><input name=\"bih\" type=\"hidden\" value=\"803\"/><input name=\"ie\" type=\"hidden\" value=\"ISO-8859-1\"/><input name=\"tbm\" type=\"hidden\" value=\"isch\"/><input name=\"oq\" type=\"hidden\"/><input name=\"aqs\" type=\"hidden\"/><table class=\"cvifge\"><tr><td class=\"O4cRJf\"><input class=\"MhzMZd\" name=\"q\" type=\"text\" value=\"Hey Radha Krishna\"/></td><td class=\"O1ePr\"><input class=\"xB0fq\" type=\"submit\" value=\"Search\"/></td></tr></table></form></div><div class=\"M7pB2\"><table class=\"euZec\"><tbody><tr><td><a class=\"CsQyDc\" href=\"/search?q=Hey+Radha+Krishna&amp;sca_esv=555163477&amp;biw=1536&amp;bih=803&amp;ie=UTF-8&amp;source=lnms&amp;sa=X&amp;ved=0ahUKEwjR4Kz4hNCAAxXDnGMGHTDWBHsQ_AUIBCgA\">ALL</a></td><td class=\"EY24We\"><span class=\"QIqI7\">IMAGES</span></td><td><a class=\"CsQyDc\" href=\"/search?q=Hey+Radha+Krishna&amp;sca_esv=555163477&amp;biw=1536&amp;bih=803&amp;ie=UTF-8&amp;tbm=vid&amp;source=lnms&amp;sa=X&amp;ved=0ahUKEwjR4Kz4hNCAAxXDnGMGHTDWBHsQ_AUIBigC\">VIDEOS</a></td><td><a class=\"CsQyDc\" href=\"/search?q=Hey+Radha+Krishna&amp;sca_esv=555163477&amp;biw=1536&amp;bih=803&amp;ie=UTF-8&amp;tbm=nws&amp;source=lnms&amp;sa=X&amp;ved=0ahUKEwjR4Kz4hNCAAxXDnGMGHTDWBHsQ_AUIBygD\">NEWS</a></td></tr></tbody></table></div></div><div class=\"X6ZCif\"><a class=\"TwVfHd\" href=\"/search?sca_esv=555163477&amp;biw=1536&amp;bih=803&amp;ie=UTF-8&amp;tbm=isch&amp;q=Hey+Radha+Krishna&amp;chips=q:jai+radhe+krishna,g_1:good+morning&amp;sa=X&amp;ved=0ahUKEwjR4Kz4hNCAAxXDnGMGHTDWBHsQ4lYICygA\">good morning</a><a class=\"TwVfHd\" href=\"/search?sca_esv=555163477&amp;biw=1536&amp;bih=803&amp;ie=UTF-8&amp;tbm=isch&amp;q=Hey+Radha+Krishna&amp;chips=q:jai+radhe+krishna,g_1:suprabhat&amp;sa=X&amp;ved=0ahUKEwjR4Kz4hNCAAxXDnGMGHTDWBHsQ4lYIDCgB\">suprabhat</a><a class=\"TwVfHd\" href=\"/search?sca_esv=555163477&amp;biw=1536&amp;bih=803&amp;ie=UTF-8&amp;tbm=isch&amp;q=Hey+Radha+Krishna&amp;chips=q:jai+radhe+krishna,g_1:hindi&amp;sa=X&amp;ved=0ahUKEwjR4Kz4hNCAAxXDnGMGHTDWBHsQ4lYIDSgC\">hindi</a><a class=\"TwVfHd\" href=\"/search?sca_esv=555163477&amp;biw=1536&amp;bih=803&amp;ie=UTF-8&amp;tbm=isch&amp;q=Hey+Radha+Krishna&amp;chips=q:jai+radhe+krishna,g_1:mobile&amp;sa=X&amp;ved=0ahUKEwjR4Kz4hNCAAxXDnGMGHTDWBHsQ4lYIDigD\">mobile</a><a class=\"TwVfHd\" href=\"/search?sca_esv=555163477&amp;biw=1536&amp;bih=803&amp;ie=UTF-8&amp;tbm=isch&amp;q=Hey+Radha+Krishna&amp;chips=q:jai+radhe+krishna,g_1:gud+morning&amp;sa=X&amp;ved=0ahUKEwjR4Kz4hNCAAxXDnGMGHTDWBHsQ4lYIDygE\">gud morning</a><a class=\"TwVfHd\" href=\"/search?sca_esv=555163477&amp;biw=1536&amp;bih=803&amp;ie=UTF-8&amp;tbm=isch&amp;q=Hey+Radha+Krishna&amp;chips=q:jai+radhe+krishna,g_1:jai+shri&amp;sa=X&amp;ved=0ahUKEwjR4Kz4hNCAAxXDnGMGHTDWBHsQ4lYIECgF\">jai shri</a><a class=\"TwVfHd\" href=\"/search?sca_esv=555163477&amp;biw=1536&amp;bih=803&amp;ie=UTF-8&amp;tbm=isch&amp;q=Hey+Radha+Krishna&amp;chips=q:jai+radhe+krishna,g_1:shayri&amp;sa=X&amp;ved=0ahUKEwjR4Kz4hNCAAxXDnGMGHTDWBHsQ4lYIESgG\">shayri</a><a class=\"TwVfHd\" href=\"/search?sca_esv=555163477&amp;biw=1536&amp;bih=803&amp;ie=UTF-8&amp;tbm=isch&amp;q=Hey+Radha+Krishna&amp;chips=q:jai+radhe+krishna,g_1:goodnight&amp;sa=X&amp;ved=0ahUKEwjR4Kz4hNCAAxXDnGMGHTDWBHsQ4lYIEigH\">goodnight</a><a class=\"TwVfHd\" href=\"/search?sca_esv=555163477&amp;biw=1536&amp;bih=803&amp;ie=UTF-8&amp;tbm=isch&amp;q=Hey+Radha+Krishna&amp;chips=q:jai+radhe+krishna,online_chips:radha+madhav&amp;sa=X&amp;ved=0ahUKEwjR4Kz4hNCAAxXDnGMGHTDWBHsQ4lYIEygI\">radha madhav</a><a class=\"TwVfHd\" href=\"/search?sca_esv=555163477&amp;biw=1536&amp;bih=803&amp;ie=UTF-8&amp;tbm=isch&amp;q=Hey+Radha+Krishna&amp;chips=q:jai+radhe+krishna,online_chips:aarti&amp;sa=X&amp;ved=0ahUKEwjR4Kz4hNCAAxXDnGMGHTDWBHsQ4lYIFCgJ\">aarti</a></div><div><table class=\"GpQGbf\"><tr><td align=\"center\" class=\"e3goi\"><div class=\"mnTahd\"> <div> <div class=\"lIMUZd\"><div><table class=\"IkMU6e\"><tr><td><a href=\"/url?q=https://www.jiosaavn.com/album/jai-shri-krishna-radhe/Fx9kctEFB5o_&amp;sa=U&amp;ved=2ahUKEwjR4Kz4hNCAAxXDnGMGHTDWBHsQqoUBegQIBBAB&amp;usg=AOvVaw0eT8w571I3P-qzkv17zP7f\"><div class=\"NZWO1b\"><img alt=\"\" class=\"yWs4tf\" src=\"https://encrypted-tbn0.gstatic.com/images?q=tbn:ANd9GcR9qPvIqKF-JU4tyfdu0kvEAgKXxQrwLvNfWmoffCuW-ljbXmE332o0arkKTfg&amp;s\"/></div></a></td></tr><tr><td><a href=\"/url?q=https://www.jiosaavn.com/album/jai-shri-krishna-radhe/Fx9kctEFB5o_&amp;sa=U&amp;ved=2ahUKEwjR4Kz4hNCAAxXDnGMGHTDWBHsQr4kDegQIBBAC&amp;usg=AOvVaw1ogNRbcltL7phoYmuCpV7e\"><div class=\"jB2rPd\"> <span class=\"qXLe6d x3G5ab\"> <span class=\"fYyStc\">Jai Shri Krishna Radhe...</span> </span> <span class=\"qXLe6d F9iS2e\"> <span class=\"fYyStc\">www.jiosaavn.com</span> </span> </div></a></td></tr></table></div></div> </div> </div></td><td align=\"center\" class=\"e3goi\"><div class=\"mnTahd\"> <div> <div class=\"lIMUZd\"><div><table class=\"IkMU6e\"><tr><td><a href=\"/url?q=https://www.youtube.com/watch%3Fv%3Dj7N3TO3wBJA&amp;sa=U&amp;ved=2ahUKEwjR4Kz4hNCAAxXDnGMGHTDWBHsQqoUBegQIEhAB&amp;usg=AOvVaw3jpbNJHhRJHxzfG_DfiGqP\"><div class=\"NZWO1b\"><img alt=\"\" class=\"yWs4tf\" src=\"https://encrypted-tbn0.gstatic.com/images?q=tbn:ANd9GcQ_yQiiWZrDATvbwHpa-TwizMrHa9pzyL-o9GL8C7a0O6mCYJIV-ZSQyE419zE&amp;s\"/></div></a></td></tr><tr><td><a href=\"/url?q=https://www.youtube.com/watch%3Fv%3Dj7N3TO3wBJA&amp;sa=U&amp;ved=2ahUKEwjR4Kz4hNCAAxXDnGMGHTDWBHsQr4kDegQIEhAC&amp;usg=AOvVaw2QvZKJJFzlW-7S8czgjUc5\"><div class=\"jB2rPd\"> <span class=\"qXLe6d x3G5ab\"> <span class=\"fYyStc\">हे गोपाल राधे कृष्ण गोविन्द...</span> </span> <span class=\"qXLe6d F9iS2e\"> <span class=\"fYyStc\">www.youtube.com</span> </span> </div></a></td></tr></table></div></div> </div> </div></td><td align=\"center\" class=\"e3goi\"><div class=\"mnTahd\"> <div> <div class=\"lIMUZd\"><div><table class=\"IkMU6e\"><tr><td><a href=\"/url?q=https://www.youtube.com/watch%3Fv%3DO_A3NolczM4&amp;sa=U&amp;ved=2ahUKEwjR4Kz4hNCAAxXDnGMGHTDWBHsQqoUBegQIExAB&amp;usg=AOvVaw0EVIzHD5v6hPUgd0kyqEn6\"><div class=\"NZWO1b\"><img alt=\"\" class=\"yWs4tf\" src=\"https://encrypted-tbn0.gstatic.com/images?q=tbn:ANd9GcSMh8c4FVVY-R8z9dlhtQfklcRWpLM0hvTdwQjshPwcqDjhwiEEO2aw8a5SBw&amp;s\"/></div></a></td></tr><tr><td><a href=\"/url?q=https://www.youtube.com/watch%3Fv%3DO_A3NolczM4&amp;sa=U&amp;ved=2ahUKEwjR4Kz4hNCAAxXDnGMGHTDWBHsQr4kDegQIExAC&amp;usg=AOvVaw2cW3maDp8ZBWEUiOIu-Dub\"><div class=\"jB2rPd\"> <span class=\"qXLe6d x3G5ab\"> <span class=\"fYyStc\">JAI RADHA MADHAV JAI KUNJ...</span> </span> <span class=\"qXLe6d F9iS2e\"> <span class=\"fYyStc\">www.youtube.com</span> </span> </div></a></td></tr></table></div></div> </div> </div></td><td align=\"center\" class=\"e3goi\"><div class=\"mnTahd\"> <div> <div class=\"lIMUZd\"><div><table class=\"IkMU6e\"><tr><td><a href=\"/url?q=https://www.jiosaavn.com/song/hey-govind-hey-gopal/SD8jbgUHXFI&amp;sa=U&amp;ved=2ahUKEwjR4Kz4hNCAAxXDnGMGHTDWBHsQqoUBegQIERAB&amp;usg=AOvVaw0ZndYdU8EoV7uTdmej0KVR\"><div class=\"NZWO1b\"><img alt=\"\" class=\"yWs4tf\" src=\"https://encrypted-tbn0.gstatic.com/images?q=tbn:ANd9GcSaqZu4elMQmrN4qA5yNkU0v6UrY-DyFivrQTIppGW38ObK7UPgrQ2YK39IeQ&amp;s\"/></div></a></td></tr><tr><td><a href=\"/url?q=https://www.jiosaavn.com/song/hey-govind-hey-gopal/SD8jbgUHXFI&amp;sa=U&amp;ved=2ahUKEwjR4Kz4hNCAAxXDnGMGHTDWBHsQr4kDegQIERAC&amp;usg=AOvVaw2-HuMyczDusNF7Rg-JXusK\"><div class=\"jB2rPd\"> <span class=\"qXLe6d x3G5ab\"> <span class=\"fYyStc\">Hey Govind Hey Gopal - Song...</span> </span> <span class=\"qXLe6d F9iS2e\"> <span class=\"fYyStc\">www.jiosaavn.com</span> </span> </div></a></td></tr></table></div></div> </div> </div></td></tr><tr><td align=\"center\" class=\"e3goi\"><div class=\"mnTahd\"> <div> <div class=\"lIMUZd\"><div><table class=\"IkMU6e\"><tr><td><a href=\"/url?q=https://new-status-video.com/jai-radha-jai-shree-krishna-whatsapp-status-video.html&amp;sa=U&amp;ved=2ahUKEwjR4Kz4hNCAAxXDnGMGHTDWBHsQqoUBegQIEBAB&amp;usg=AOvVaw1DaEqQpSoTOUOVUw_vIDQD\"><div class=\"NZWO1b\"><img alt=\"\" class=\"yWs4tf\" src=\"https://encrypted-tbn0.gstatic.com/images?q=tbn:ANd9GcTDxdjeKCkvJQQ5I9eXt-ilmh2IHmmU1Y1jQP1N7S5jOp1QBKJdUh0cUU1rHg&amp;s\"/></div></a></td></tr><tr><td><a href=\"/url?q=https://new-status-video.com/jai-radha-jai-shree-krishna-whatsapp-status-video.html&amp;sa=U&amp;ved=2ahUKEwjR4Kz4hNCAAxXDnGMGHTDWBHsQr4kDegQIEBAC&amp;usg=AOvVaw1KJXsMNqfHWS3Rs9l8Kvs5\"><div class=\"jB2rPd\"> <span class=\"qXLe6d x3G5ab\"> <span class=\"fYyStc\">Jai Radha Jai Shree Krishna...</span> </span> <span class=\"qXLe6d F9iS2e\"> <span class=\"fYyStc\">new-status-video.com</span> </span> </div></a></td></tr></table></div></div> </div> </div></td><td align=\"center\" class=\"e3goi\"><div class=\"mnTahd\"> <div> <div class=\"lIMUZd\"><div><table class=\"IkMU6e\"><tr><td><a href=\"/url?q=https://www.jiosaavn.com/song/hey-govinda/QR4SVEdbWAs&amp;sa=U&amp;ved=2ahUKEwjR4Kz4hNCAAxXDnGMGHTDWBHsQqoUBegQIDhAB&amp;usg=AOvVaw1QrDiydcmDNiG9uuYo3tif\"><div class=\"NZWO1b\"><img alt=\"\" class=\"yWs4tf\" src=\"https://encrypted-tbn0.gstatic.com/images?q=tbn:ANd9GcRaNmx-h32NG0-p1F5mA7hYjIWjw4Kn9yM2Xbc_WjCRUpcQKCwVD4EJzlTLi7E&amp;s\"/></div></a></td></tr><tr><td><a href=\"/url?q=https://www.jiosaavn.com/song/hey-govinda/QR4SVEdbWAs&amp;sa=U&amp;ved=2ahUKEwjR4Kz4hNCAAxXDnGMGHTDWBHsQr4kDegQIDhAC&amp;usg=AOvVaw1vxIk7ki7ZpXmR1mOvXMrs\"><div class=\"jB2rPd\"> <span class=\"qXLe6d x3G5ab\"> <span class=\"fYyStc\">Hey Govinda - Song Download...</span> </span> <span class=\"qXLe6d F9iS2e\"> <span class=\"fYyStc\">www.jiosaavn.com</span> </span> </div></a></td></tr></table></div></div> </div> </div></td><td align=\"center\" class=\"e3goi\"><div class=\"mnTahd\"> <div> <div class=\"lIMUZd\"><div><table class=\"IkMU6e\"><tr><td><a href=\"/url?q=https://www.pinterest.com/pin/hkcreation--644577765391834902/&amp;sa=U&amp;ved=2ahUKEwjR4Kz4hNCAAxXDnGMGHTDWBHsQqoUBegQIDRAB&amp;usg=AOvVaw1s_qpDSKoSAuMsstfoqhn0\"><div class=\"NZWO1b\"><img alt=\"\" class=\"yWs4tf\" src=\"https://encrypted-tbn0.gstatic.com/images?q=tbn:ANd9GcQ_iHkhAEvmHMG78eTh1y3Xd6kzySNwU86SGc_wPuF69S9NHwRkxKt7xw8zsuc&amp;s\"/></div></a></td></tr><tr><td><a href=\"/url?q=https://www.pinterest.com/pin/hkcreation--644577765391834902/&amp;sa=U&amp;ved=2ahUKEwjR4Kz4hNCAAxXDnGMGHTDWBHsQr4kDegQIDRAC&amp;usg=AOvVaw2L8G4LRrxW9ANVvf531Vd1\"><div class=\"jB2rPd\"> <span class=\"qXLe6d x3G5ab\"> <span class=\"fYyStc\">Hey! I've been using...</span> </span> <span class=\"qXLe6d F9iS2e\"> <span class=\"fYyStc\">www.pinterest.com</span> </span> </div></a></td></tr></table></div></div> </div> </div></td><td align=\"center\" class=\"e3goi\"><div class=\"mnTahd\"> <div> <div class=\"lIMUZd\"><div><table class=\"IkMU6e\"><tr><td><a href=\"/url?q=https://www.smitcreation.com/pictures/radha-krishna/page/3/&amp;sa=U&amp;ved=2ahUKEwjR4Kz4hNCAAxXDnGMGHTDWBHsQqoUBegQIDxAB&amp;usg=AOvVaw0DCHVNevpuVAvinaK_UHwd\"><div class=\"NZWO1b\"><img alt=\"\" class=\"yWs4tf\" src=\"https://encrypted-tbn0.gstatic.com/images?q=tbn:ANd9GcRukuQQQE-FC70mUxlBzRklFgB9QzJWxFsmU2WZQ_cfrK12aoEti1cTEfuRYVQ&amp;s\"/></div></a></td></tr><tr><td><a href=\"/url?q=https://www.smitcreation.com/pictures/radha-krishna/page/3/&amp;sa=U&amp;ved=2ahUKEwjR4Kz4hNCAAxXDnGMGHTDWBHsQr4kDegQIDxAC&amp;usg=AOvVaw0ldNBoXH2VVOG2QmAKZWar\"><div class=\"jB2rPd\"> <span class=\"qXLe6d x3G5ab\"> <span class=\"fYyStc\">70+ Radha Krishna ( राधा...</span> </span> <span class=\"qXLe6d F9iS2e\"> <span class=\"fYyStc\">www.smitcreation.com</span> </span> </div></a></td></tr></table></div></div> </div> </div></td></tr><tr><td align=\"center\" class=\"e3goi\"><div class=\"mnTahd\"> <div> <div class=\"lIMUZd\"><div><table class=\"IkMU6e\"><tr><td><a href=\"/url?q=https://gaana.com/song/jai-radhe-jai-shree-krishna-bolo&amp;sa=U&amp;ved=2ahUKEwjR4Kz4hNCAAxXDnGMGHTDWBHsQqoUBegQICRAB&amp;usg=AOvVaw2DNpud5AL1ZyR13kYjIRKc\"><div class=\"NZWO1b\"><img alt=\"\" class=\"yWs4tf\" src=\"https://encrypted-tbn0.gstatic.com/images?q=tbn:ANd9GcQCHdEa_Ay7XeCy4_2UGGeYnFrpxTam8M-h9akSAs_shrXSZn55qU2SOoArPg&amp;s\"/></div></a></td></tr><tr><td><a href=\"/url?q=https://gaana.com/song/jai-radhe-jai-shree-krishna-bolo&amp;sa=U&amp;ved=2ahUKEwjR4Kz4hNCAAxXDnGMGHTDWBHsQr4kDegQICRAC&amp;usg=AOvVaw2FPHiRp9oNxL-cdiegWR0G\"><div class=\"jB2rPd\"> <span class=\"qXLe6d x3G5ab\"> <span class=\"fYyStc\">Jai Radhe Jai Shree Krishna...</span> </span> <span class=\"qXLe6d F9iS2e\"> <span class=\"fYyStc\">gaana.com</span> </span> </div></a></td></tr></table></div></div> </div> </div></td><td align=\"center\" class=\"e3goi\"><div class=\"mnTahd\"> <div> <div class=\"lIMUZd\"><div><table class=\"IkMU6e\"><tr><td><a href=\"/url?q=https://www.pinterest.com/pin/548242954612694647/&amp;sa=U&amp;ved=2ahUKEwjR4Kz4hNCAAxXDnGMGHTDWBHsQqoUBegQIDBAB&amp;usg=AOvVaw26BsiePvID-xtaRl8Ym5PF\"><div class=\"NZWO1b\"><img alt=\"\" class=\"yWs4tf\" src=\"https://encrypted-tbn0.gstatic.com/images?q=tbn:ANd9GcQ8b1-u0WJf5JgVihg8MSgcFBG8drzvEhwruQY_ShOcb0hd2l_oju-xmrOn0zo&amp;s\"/></div></a></td></tr><tr><td><a href=\"/url?q=https://www.pinterest.com/pin/548242954612694647/&amp;sa=U&amp;ved=2ahUKEwjR4Kz4hNCAAxXDnGMGHTDWBHsQr4kDegQIDBAC&amp;usg=AOvVaw0T3So79frYFG1v91a2yCnj\"><div class=\"jB2rPd\"> <span class=\"qXLe6d x3G5ab\"> <span class=\"fYyStc\">Krishna krishna hare...</span> </span> <span class=\"qXLe6d F9iS2e\"> <span class=\"fYyStc\">www.pinterest.com</span> </span> </div></a></td></tr></table></div></div> </div> </div></td><td align=\"center\" class=\"e3goi\"><div class=\"mnTahd\"> <div> <div class=\"lIMUZd\"><div><table class=\"IkMU6e\"><tr><td><a href=\"/url?q=https://www.youtube.com/watch%3Fv%3Dud_X2CXcRgo&amp;sa=U&amp;ved=2ahUKEwjR4Kz4hNCAAxXDnGMGHTDWBHsQqoUBegQICxAB&amp;usg=AOvVaw2Uw7QDs4rPP1ZK5xOmKpvz\"><div class=\"NZWO1b\"><img alt=\"\" class=\"yWs4tf\" src=\"https://encrypted-tbn0.gstatic.com/images?q=tbn:ANd9GcRkVCHGWQ6F0FsZTHpp3z03d0VuBh1Sj-3rJjTEHyMb5_dE6QKJ6Wp7zp1-Lk8&amp;s\"/></div></a></td></tr><tr><td><a href=\"/url?q=https://www.youtube.com/watch%3Fv%3Dud_X2CXcRgo&amp;sa=U&amp;ved=2ahUKEwjR4Kz4hNCAAxXDnGMGHTDWBHsQr4kDegQICxAC&amp;usg=AOvVaw32guKG55KYiVxXUm8XAfcF\"><div class=\"jB2rPd\"> <span class=\"qXLe6d x3G5ab\"> <span class=\"fYyStc\">जय जय श्री राधे : कृष्णा...</span> </span> <span class=\"qXLe6d F9iS2e\"> <span class=\"fYyStc\">www.youtube.com</span> </span> </div></a></td></tr></table></div></div> </div> </div></td><td align=\"center\" class=\"e3goi\"><div class=\"mnTahd\"> <div> <div class=\"lIMUZd\"><div><table class=\"IkMU6e\"><tr><td><a href=\"/url?q=https://in.pinterest.com/pin/jai-shree-radhe-krishn--633178028846269748/&amp;sa=U&amp;ved=2ahUKEwjR4Kz4hNCAAxXDnGMGHTDWBHsQqoUBegQIChAB&amp;usg=AOvVaw0iA9Z0ZZTXesQWade_cqhl\"><div class=\"NZWO1b\"><img alt=\"\" class=\"yWs4tf\" src=\"https://encrypted-tbn0.gstatic.com/images?q=tbn:ANd9GcSCqvNK0Bk9R2jZ8x8w8e4yAAG0BE26SQKvyv17zDHGwKSOWC7VsPZw9D9XUA&amp;s\"/></div></a></td></tr><tr><td><a href=\"/url?q=https://in.pinterest.com/pin/jai-shree-radhe-krishn--633178028846269748/&amp;sa=U&amp;ved=2ahUKEwjR4Kz4hNCAAxXDnGMGHTDWBHsQr4kDegQIChAC&amp;usg=AOvVaw1AR8b4FPtYXgBDLa3Rxvcg\"><div class=\"jB2rPd\"> <span class=\"qXLe6d x3G5ab\"> <span class=\"fYyStc\">Pin by Saroj Kumar on JAI...</span> </span> <span class=\"qXLe6d F9iS2e\"> <span class=\"fYyStc\">in.pinterest.com</span> </span> </div></a></td></tr></table></div></div> </div> </div></td></tr><tr><td align=\"center\" class=\"e3goi\"><div class=\"mnTahd\"> <div> <div class=\"lIMUZd\"><div><table class=\"IkMU6e\"><tr><td><a href=\"/url?q=https://www.jiosaavn.com/song/radha-gayatri-mantra-108-times/HAApXi5-fHg&amp;sa=U&amp;ved=2ahUKEwjR4Kz4hNCAAxXDnGMGHTDWBHsQqoUBegQICBAB&amp;usg=AOvVaw3gFqwV456jF9w9b4YrZEsS\"><div class=\"NZWO1b\"><img alt=\"\" class=\"yWs4tf\" src=\"https://encrypted-tbn0.gstatic.com/images?q=tbn:ANd9GcTaDDCKhP59-aYSWcxqdFxehnKaZ01eEChAIMJeJCRXpgvxkvGJXSenymi5Yn8&amp;s\"/></div></a></td></tr><tr><td><a href=\"/url?q=https://www.jiosaavn.com/song/radha-gayatri-mantra-108-times/HAApXi5-fHg&amp;sa=U&amp;ved=2ahUKEwjR4Kz4hNCAAxXDnGMGHTDWBHsQr4kDegQICBAC&amp;usg=AOvVaw1FEB7JUAK2b14lJfTfyJHL\"><div class=\"jB2rPd\"> <span class=\"qXLe6d x3G5ab\"> <span class=\"fYyStc\">Radha Gayatri Mantra 108...</span> </span> <span class=\"qXLe6d F9iS2e\"> <span class=\"fYyStc\">www.jiosaavn.com</span> </span> </div></a></td></tr></table></div></div> </div> </div></td><td align=\"center\" class=\"e3goi\"><div class=\"mnTahd\"> <div> <div class=\"lIMUZd\"><div><table class=\"IkMU6e\"><tr><td><a href=\"/url?q=https://www.radheradheje.com/radha-krishna-quotes-in-hindi/&amp;sa=U&amp;ved=2ahUKEwjR4Kz4hNCAAxXDnGMGHTDWBHsQqoUBegQIBhAB&amp;usg=AOvVaw20BlCFMQ52da7W7CyAqPxW\"><div class=\"NZWO1b\"><img alt=\"\" class=\"yWs4tf\" src=\"https://encrypted-tbn0.gstatic.com/images?q=tbn:ANd9GcT_LvK0ONMHGyS7LHtKvgxe3ISVu8vLZFyS0oRnlPnyY5qscr67Q0FmTFjmgg&amp;s\"/></div></a></td></tr><tr><td><a href=\"/url?q=https://www.radheradheje.com/radha-krishna-quotes-in-hindi/&amp;sa=U&amp;ved=2ahUKEwjR4Kz4hNCAAxXDnGMGHTDWBHsQr4kDegQIBhAC&amp;usg=AOvVaw2kQLKZ9nBy-vYfLhzKWQVp\"><div class=\"jB2rPd\"> <span class=\"qXLe6d x3G5ab\"> <span class=\"fYyStc\">Radha Krishna Quotes in...</span> </span> <span class=\"qXLe6d F9iS2e\"> <span class=\"fYyStc\">www.radheradheje.com</span> </span> </div></a></td></tr></table></div></div> </div> </div></td><td align=\"center\" class=\"e3goi\"><div class=\"mnTahd\"> <div> <div class=\"lIMUZd\"><div><table class=\"IkMU6e\"><tr><td><a href=\"/url?q=https://gaana.com/album/hey-narayan-radhika-raman&amp;sa=U&amp;ved=2ahUKEwjR4Kz4hNCAAxXDnGMGHTDWBHsQqoUBegQIARAB&amp;usg=AOvVaw0GTuuTuN_w5KwJDfHZW4A2\"><div class=\"NZWO1b\"><img alt=\"\" class=\"yWs4tf\" src=\"https://encrypted-tbn0.gstatic.com/images?q=tbn:ANd9GcTzaYuf9ExtKlxsQzxYN9B-nIpVI-0FTX8sJUbCN7PeNdOCQN0_AtfaSiCFIw&amp;s\"/></div></a></td></tr><tr><td><a href=\"/url?q=https://gaana.com/album/hey-narayan-radhika-raman&amp;sa=U&amp;ved=2ahUKEwjR4Kz4hNCAAxXDnGMGHTDWBHsQr4kDegQIARAC&amp;usg=AOvVaw3gIC4azQZ4PBPYwtrndRVT\"><div class=\"jB2rPd\"> <span class=\"qXLe6d x3G5ab\"> <span class=\"fYyStc\">Hey Narayan Radhika Raman...</span> </span> <span class=\"qXLe6d F9iS2e\"> <span class=\"fYyStc\">gaana.com</span> </span> </div></a></td></tr></table></div></div> </div> </div></td><td align=\"center\" class=\"e3goi\"><div class=\"mnTahd\"> <div> <div class=\"lIMUZd\"><div><table class=\"IkMU6e\"><tr><td><a href=\"/url?q=https://www.youtube.com/watch%3Fv%3D9duGcrz0Cy4&amp;sa=U&amp;ved=2ahUKEwjR4Kz4hNCAAxXDnGMGHTDWBHsQqoUBegQIAxAB&amp;usg=AOvVaw1pDE18dSO07d92XmyQ6ioZ\"><div class=\"NZWO1b\"><img alt=\"\" class=\"yWs4tf\" src=\"https://encrypted-tbn0.gstatic.com/images?q=tbn:ANd9GcQCZ6goBpYuPQP86FRFT6OkcZzLgt7pipoiLqPVNi4xMCaO6U71wGPcGgEmsQ&amp;s\"/></div></a></td></tr><tr><td><a href=\"/url?q=https://www.youtube.com/watch%3Fv%3D9duGcrz0Cy4&amp;sa=U&amp;ved=2ahUKEwjR4Kz4hNCAAxXDnGMGHTDWBHsQr4kDegQIAxAC&amp;usg=AOvVaw1jmXIi0BZKWyt-7piWPl1z\"><div class=\"jB2rPd\"> <span class=\"qXLe6d x3G5ab\"> <span class=\"fYyStc\">Om Jai Shri Radha | Aarti |...</span> </span> <span class=\"qXLe6d F9iS2e\"> <span class=\"fYyStc\">www.youtube.com</span> </span> </div></a></td></tr></table></div></div> </div> </div></td></tr><tr><td align=\"center\" class=\"e3goi\"><div class=\"mnTahd\"> <div> <div class=\"lIMUZd\"><div><table class=\"IkMU6e\"><tr><td><a href=\"/url?q=https://www.youtube.com/watch%3Fv%3D1Tr3uLSbvEc&amp;sa=U&amp;ved=2ahUKEwjR4Kz4hNCAAxXDnGMGHTDWBHsQqoUBegQIBRAB&amp;usg=AOvVaw0DXlGyFNCFUjha2bMoVo7K\"><div class=\"NZWO1b\"><img alt=\"\" class=\"yWs4tf\" src=\"https://encrypted-tbn0.gstatic.com/images?q=tbn:ANd9GcSznWw0-HZizz0RTtdfUBjGZnqsuOz2gTsBJKerPfKMgj4faSEKCkEmrpwzvyU&amp;s\"/></div></a></td></tr><tr><td><a href=\"/url?q=https://www.youtube.com/watch%3Fv%3D1Tr3uLSbvEc&amp;sa=U&amp;ved=2ahUKEwjR4Kz4hNCAAxXDnGMGHTDWBHsQr4kDegQIBRAC&amp;usg=AOvVaw34RHOI4EAwbzH_Kca6XSLy\"><div class=\"jB2rPd\"> <span class=\"qXLe6d x3G5ab\"> <span class=\"fYyStc\">बृहस्पतिवार भक्ति : जय श्री...</span> </span> <span class=\"qXLe6d F9iS2e\"> <span class=\"fYyStc\">www.youtube.com</span> </span> </div></a></td></tr></table></div></div> </div> </div></td><td align=\"center\" class=\"e3goi\"><div class=\"mnTahd\"> <div> <div class=\"lIMUZd\"><div><table class=\"IkMU6e\"><tr><td><a href=\"/url?q=https://en.wikipedia.org/wiki/Radha_Krishna&amp;sa=U&amp;ved=2ahUKEwjR4Kz4hNCAAxXDnGMGHTDWBHsQqoUBegQIABAB&amp;usg=AOvVaw0Aw_a9PUxaDyTRMuxRiFI3\"><div class=\"NZWO1b\"><img alt=\"\" class=\"yWs4tf\" src=\"https://encrypted-tbn0.gstatic.com/images?q=tbn:ANd9GcSJI8jH1LhkuMUUpvKsBNO9UCIuzLII2FeDL7A2wvktGzxVSU4gyCDcLdpLaNo&amp;s\"/></div></a></td></tr><tr><td><a href=\"/url?q=https://en.wikipedia.org/wiki/Radha_Krishna&amp;sa=U&amp;ved=2ahUKEwjR4Kz4hNCAAxXDnGMGHTDWBHsQr4kDegQIABAC&amp;usg=AOvVaw2GPqs3JSQMgktH_nlVz7HT\"><div class=\"jB2rPd\"> <span class=\"qXLe6d x3G5ab\"> <span class=\"fYyStc\">Radha Krishna - Wikipedia</span> </span> <span class=\"qXLe6d F9iS2e\"> <span class=\"fYyStc\">en.wikipedia.org</span> </span> </div></a></td></tr></table></div></div> </div> </div></td><td align=\"center\" class=\"e3goi\"><div class=\"mnTahd\"> <div> <div class=\"lIMUZd\"><div><table class=\"IkMU6e\"><tr><td><a href=\"/url?q=https://open.spotify.com/track/2JSVlZOhxfqK4in0EiZjhJ&amp;sa=U&amp;ved=2ahUKEwjR4Kz4hNCAAxXDnGMGHTDWBHsQqoUBegQIAhAB&amp;usg=AOvVaw1iFqKDL5zxzH5JP4cFxD4E\"><div class=\"NZWO1b\"><img alt=\"\" class=\"yWs4tf\" src=\"https://encrypted-tbn0.gstatic.com/images?q=tbn:ANd9GcR4yav48aT4VqxxqfSCysz6ZLk-yb52vLAFtIIMjvgdrTNF8AqFZ9mNt0NKnLk&amp;s\"/></div></a></td></tr><tr><td><a href=\"/url?q=https://open.spotify.com/track/2JSVlZOhxfqK4in0EiZjhJ&amp;sa=U&amp;ved=2ahUKEwjR4Kz4hNCAAxXDnGMGHTDWBHsQr4kDegQIAhAC&amp;usg=AOvVaw2yA73C24LCAaHWmuxmr-Yj\"><div class=\"jB2rPd\"> <span class=\"qXLe6d x3G5ab\"> <span class=\"fYyStc\">Hey Radhe Radhe - song and...</span> </span> <span class=\"qXLe6d F9iS2e\"> <span class=\"fYyStc\">open.spotify.com</span> </span> </div></a></td></tr></table></div></div> </div> </div></td><td align=\"center\" class=\"e3goi\"><div class=\"mnTahd\"> <div> <div class=\"lIMUZd\"><div><table class=\"IkMU6e\"><tr><td><a href=\"/url?q=https://www.youtube.com/watch%3Fv%3Dga7Ns289pcA&amp;sa=U&amp;ved=2ahUKEwjR4Kz4hNCAAxXDnGMGHTDWBHsQqoUBegQIBxAB&amp;usg=AOvVaw1b150MRkiDo7pNPaR-6C6-\"><div class=\"NZWO1b\"><img alt=\"\" class=\"yWs4tf\" src=\"https://encrypted-tbn0.gstatic.com/images?q=tbn:ANd9GcR7SSH-MUNIFlCSXZO043xtrLtLBgjp9JEPwAlyZdQwoSx_DpGy95vKnC_zHGM&amp;s\"/></div></a></td></tr><tr><td><a href=\"/url?q=https://www.youtube.com/watch%3Fv%3Dga7Ns289pcA&amp;sa=U&amp;ved=2ahUKEwjR4Kz4hNCAAxXDnGMGHTDWBHsQr4kDegQIBxAC&amp;usg=AOvVaw2jTTN4FFbCE1eVWvsxi8Mk\"><div class=\"jB2rPd\"> <span class=\"qXLe6d x3G5ab\"> <span class=\"fYyStc\">Jai Radha Madhav - Krishna...</span> </span> <span class=\"qXLe6d F9iS2e\"> <span class=\"fYyStc\">www.youtube.com</span> </span> </div></a></td></tr></table></div></div> </div> </div></td></tr></table></div><table class=\"uZgmoc\"><tbody><td><a class=\"frGj1b\" href=\"/search?q=Hey+Radha+Krishna&amp;sca_esv=555163477&amp;biw=1536&amp;bih=803&amp;ie=UTF-8&amp;tbm=isch&amp;ei=XcTTZJG-HMO5juMPsKyT2Ac&amp;start=20&amp;sa=N\">Next &gt;</a></td></tbody></table><br/><div class=\"TuS8Ad\" data-ved=\"0ahUKEwjR4Kz4hNCAAxXDnGMGHTDWBHsQpyoIUg\"><style>.VYM29{font-weight:bold}</style><div align=\"center\" class=\"HddGcc\"><span class=\"VYM29\">Koramangala, Bengaluru, Karnataka</span><span> - </span><span>From your IP address</span><span> - </span><a href=\"/url?q=https://support.google.com/websearch%3Fp%3Dws_settings_location%26hl%3Den-IN&amp;sa=U&amp;ved=0ahUKEwjR4Kz4hNCAAxXDnGMGHTDWBHsQty4IUw&amp;usg=AOvVaw1RO7Jnrcz91k-K33K85Dyf\">Learn more</a></div><div align=\"center\"><a class=\"rEM8G\" href=\"/url?q=https://accounts.google.com/ServiceLogin%3Fcontinue%3Dhttps://www.google.com/search%253Fsca_esv%253D555163477%2526sxsrf%253DAB5stBj_z9IQsMYJEiW3Es_9yesafHfUDw:1691596568335%2526q%253DHey%252BRadha%252BKrishna%2526tbm%253Disch%2526source%253Dlnms%2526sa%253DX%2526ved%253D2ahUKEwiA6buk-M-AAxXGamwGHUi2DgYQ0pQJegQIDRAB%2526biw%253D1536%2526bih%253D803%2526dpr%253D1.25%26hl%3Den&amp;sa=U&amp;ved=0ahUKEwjR4Kz4hNCAAxXDnGMGHTDWBHsQxs8CCFQ&amp;usg=AOvVaw3wBGIZEdhwOYPwmJvNXQ0B\">Sign in</a></div><div><table class=\"bookcf\"><tbody class=\"InWNIe\"><tr><td><a class=\"rEM8G\" href=\"https://www.google.com/preferences?hl=en&amp;sa=X&amp;ved=0ahUKEwjR4Kz4hNCAAxXDnGMGHTDWBHsQv5YECFU\">Settings</a></td><td><a class=\"rEM8G\" href=\"https://www.google.com/intl/en_in/policies/privacy/\">Privacy</a></td><td><a class=\"rEM8G\" href=\"https://www.google.com/intl/en_in/policies/terms/\">Terms</a></td></tr></tbody></table></div></div><div> </div></body></html>"
      ]
     },
     "execution_count": 18,
     "metadata": {},
     "output_type": "execute_result"
    }
   ],
   "source": [
    "soup"
   ]
  },
  {
   "cell_type": "code",
   "execution_count": 19,
   "id": "4154198e",
   "metadata": {},
   "outputs": [],
   "source": [
    "# To Collect the images we use find_all method\n",
    "image_tag=soup.find_all(\"img\")"
   ]
  },
  {
   "cell_type": "code",
   "execution_count": 20,
   "id": "efc65793",
   "metadata": {},
   "outputs": [
    {
     "data": {
      "text/plain": [
       "[<img alt=\"Google\" class=\"kgJEQe\" src=\"/images/branding/searchlogo/1x/googlelogo_desk_heirloom_color_150x55dp.gif\"/>,\n",
       " <img alt=\"\" class=\"yWs4tf\" src=\"https://encrypted-tbn0.gstatic.com/images?q=tbn:ANd9GcR9qPvIqKF-JU4tyfdu0kvEAgKXxQrwLvNfWmoffCuW-ljbXmE332o0arkKTfg&amp;s\"/>,\n",
       " <img alt=\"\" class=\"yWs4tf\" src=\"https://encrypted-tbn0.gstatic.com/images?q=tbn:ANd9GcQ_yQiiWZrDATvbwHpa-TwizMrHa9pzyL-o9GL8C7a0O6mCYJIV-ZSQyE419zE&amp;s\"/>,\n",
       " <img alt=\"\" class=\"yWs4tf\" src=\"https://encrypted-tbn0.gstatic.com/images?q=tbn:ANd9GcSMh8c4FVVY-R8z9dlhtQfklcRWpLM0hvTdwQjshPwcqDjhwiEEO2aw8a5SBw&amp;s\"/>,\n",
       " <img alt=\"\" class=\"yWs4tf\" src=\"https://encrypted-tbn0.gstatic.com/images?q=tbn:ANd9GcSaqZu4elMQmrN4qA5yNkU0v6UrY-DyFivrQTIppGW38ObK7UPgrQ2YK39IeQ&amp;s\"/>,\n",
       " <img alt=\"\" class=\"yWs4tf\" src=\"https://encrypted-tbn0.gstatic.com/images?q=tbn:ANd9GcTDxdjeKCkvJQQ5I9eXt-ilmh2IHmmU1Y1jQP1N7S5jOp1QBKJdUh0cUU1rHg&amp;s\"/>,\n",
       " <img alt=\"\" class=\"yWs4tf\" src=\"https://encrypted-tbn0.gstatic.com/images?q=tbn:ANd9GcRaNmx-h32NG0-p1F5mA7hYjIWjw4Kn9yM2Xbc_WjCRUpcQKCwVD4EJzlTLi7E&amp;s\"/>,\n",
       " <img alt=\"\" class=\"yWs4tf\" src=\"https://encrypted-tbn0.gstatic.com/images?q=tbn:ANd9GcQ_iHkhAEvmHMG78eTh1y3Xd6kzySNwU86SGc_wPuF69S9NHwRkxKt7xw8zsuc&amp;s\"/>,\n",
       " <img alt=\"\" class=\"yWs4tf\" src=\"https://encrypted-tbn0.gstatic.com/images?q=tbn:ANd9GcRukuQQQE-FC70mUxlBzRklFgB9QzJWxFsmU2WZQ_cfrK12aoEti1cTEfuRYVQ&amp;s\"/>,\n",
       " <img alt=\"\" class=\"yWs4tf\" src=\"https://encrypted-tbn0.gstatic.com/images?q=tbn:ANd9GcQCHdEa_Ay7XeCy4_2UGGeYnFrpxTam8M-h9akSAs_shrXSZn55qU2SOoArPg&amp;s\"/>,\n",
       " <img alt=\"\" class=\"yWs4tf\" src=\"https://encrypted-tbn0.gstatic.com/images?q=tbn:ANd9GcQ8b1-u0WJf5JgVihg8MSgcFBG8drzvEhwruQY_ShOcb0hd2l_oju-xmrOn0zo&amp;s\"/>,\n",
       " <img alt=\"\" class=\"yWs4tf\" src=\"https://encrypted-tbn0.gstatic.com/images?q=tbn:ANd9GcRkVCHGWQ6F0FsZTHpp3z03d0VuBh1Sj-3rJjTEHyMb5_dE6QKJ6Wp7zp1-Lk8&amp;s\"/>,\n",
       " <img alt=\"\" class=\"yWs4tf\" src=\"https://encrypted-tbn0.gstatic.com/images?q=tbn:ANd9GcSCqvNK0Bk9R2jZ8x8w8e4yAAG0BE26SQKvyv17zDHGwKSOWC7VsPZw9D9XUA&amp;s\"/>,\n",
       " <img alt=\"\" class=\"yWs4tf\" src=\"https://encrypted-tbn0.gstatic.com/images?q=tbn:ANd9GcTaDDCKhP59-aYSWcxqdFxehnKaZ01eEChAIMJeJCRXpgvxkvGJXSenymi5Yn8&amp;s\"/>,\n",
       " <img alt=\"\" class=\"yWs4tf\" src=\"https://encrypted-tbn0.gstatic.com/images?q=tbn:ANd9GcT_LvK0ONMHGyS7LHtKvgxe3ISVu8vLZFyS0oRnlPnyY5qscr67Q0FmTFjmgg&amp;s\"/>,\n",
       " <img alt=\"\" class=\"yWs4tf\" src=\"https://encrypted-tbn0.gstatic.com/images?q=tbn:ANd9GcTzaYuf9ExtKlxsQzxYN9B-nIpVI-0FTX8sJUbCN7PeNdOCQN0_AtfaSiCFIw&amp;s\"/>,\n",
       " <img alt=\"\" class=\"yWs4tf\" src=\"https://encrypted-tbn0.gstatic.com/images?q=tbn:ANd9GcQCZ6goBpYuPQP86FRFT6OkcZzLgt7pipoiLqPVNi4xMCaO6U71wGPcGgEmsQ&amp;s\"/>,\n",
       " <img alt=\"\" class=\"yWs4tf\" src=\"https://encrypted-tbn0.gstatic.com/images?q=tbn:ANd9GcSznWw0-HZizz0RTtdfUBjGZnqsuOz2gTsBJKerPfKMgj4faSEKCkEmrpwzvyU&amp;s\"/>,\n",
       " <img alt=\"\" class=\"yWs4tf\" src=\"https://encrypted-tbn0.gstatic.com/images?q=tbn:ANd9GcSJI8jH1LhkuMUUpvKsBNO9UCIuzLII2FeDL7A2wvktGzxVSU4gyCDcLdpLaNo&amp;s\"/>,\n",
       " <img alt=\"\" class=\"yWs4tf\" src=\"https://encrypted-tbn0.gstatic.com/images?q=tbn:ANd9GcR4yav48aT4VqxxqfSCysz6ZLk-yb52vLAFtIIMjvgdrTNF8AqFZ9mNt0NKnLk&amp;s\"/>,\n",
       " <img alt=\"\" class=\"yWs4tf\" src=\"https://encrypted-tbn0.gstatic.com/images?q=tbn:ANd9GcR7SSH-MUNIFlCSXZO043xtrLtLBgjp9JEPwAlyZdQwoSx_DpGy95vKnC_zHGM&amp;s\"/>]"
      ]
     },
     "execution_count": 20,
     "metadata": {},
     "output_type": "execute_result"
    }
   ],
   "source": [
    "image_tag"
   ]
  },
  {
   "cell_type": "code",
   "execution_count": 21,
   "id": "dbeb6e13",
   "metadata": {},
   "outputs": [],
   "source": [
    "# in some cases we want to delete the some of the data \n",
    "# for that we use index method to delet it\n",
    "del image_tag[0]"
   ]
  },
  {
   "cell_type": "code",
   "execution_count": 22,
   "id": "4ed6166d",
   "metadata": {},
   "outputs": [
    {
     "data": {
      "text/plain": [
       "[<img alt=\"\" class=\"yWs4tf\" src=\"https://encrypted-tbn0.gstatic.com/images?q=tbn:ANd9GcR9qPvIqKF-JU4tyfdu0kvEAgKXxQrwLvNfWmoffCuW-ljbXmE332o0arkKTfg&amp;s\"/>,\n",
       " <img alt=\"\" class=\"yWs4tf\" src=\"https://encrypted-tbn0.gstatic.com/images?q=tbn:ANd9GcQ_yQiiWZrDATvbwHpa-TwizMrHa9pzyL-o9GL8C7a0O6mCYJIV-ZSQyE419zE&amp;s\"/>,\n",
       " <img alt=\"\" class=\"yWs4tf\" src=\"https://encrypted-tbn0.gstatic.com/images?q=tbn:ANd9GcSMh8c4FVVY-R8z9dlhtQfklcRWpLM0hvTdwQjshPwcqDjhwiEEO2aw8a5SBw&amp;s\"/>,\n",
       " <img alt=\"\" class=\"yWs4tf\" src=\"https://encrypted-tbn0.gstatic.com/images?q=tbn:ANd9GcSaqZu4elMQmrN4qA5yNkU0v6UrY-DyFivrQTIppGW38ObK7UPgrQ2YK39IeQ&amp;s\"/>,\n",
       " <img alt=\"\" class=\"yWs4tf\" src=\"https://encrypted-tbn0.gstatic.com/images?q=tbn:ANd9GcTDxdjeKCkvJQQ5I9eXt-ilmh2IHmmU1Y1jQP1N7S5jOp1QBKJdUh0cUU1rHg&amp;s\"/>,\n",
       " <img alt=\"\" class=\"yWs4tf\" src=\"https://encrypted-tbn0.gstatic.com/images?q=tbn:ANd9GcRaNmx-h32NG0-p1F5mA7hYjIWjw4Kn9yM2Xbc_WjCRUpcQKCwVD4EJzlTLi7E&amp;s\"/>,\n",
       " <img alt=\"\" class=\"yWs4tf\" src=\"https://encrypted-tbn0.gstatic.com/images?q=tbn:ANd9GcQ_iHkhAEvmHMG78eTh1y3Xd6kzySNwU86SGc_wPuF69S9NHwRkxKt7xw8zsuc&amp;s\"/>,\n",
       " <img alt=\"\" class=\"yWs4tf\" src=\"https://encrypted-tbn0.gstatic.com/images?q=tbn:ANd9GcRukuQQQE-FC70mUxlBzRklFgB9QzJWxFsmU2WZQ_cfrK12aoEti1cTEfuRYVQ&amp;s\"/>,\n",
       " <img alt=\"\" class=\"yWs4tf\" src=\"https://encrypted-tbn0.gstatic.com/images?q=tbn:ANd9GcQCHdEa_Ay7XeCy4_2UGGeYnFrpxTam8M-h9akSAs_shrXSZn55qU2SOoArPg&amp;s\"/>,\n",
       " <img alt=\"\" class=\"yWs4tf\" src=\"https://encrypted-tbn0.gstatic.com/images?q=tbn:ANd9GcQ8b1-u0WJf5JgVihg8MSgcFBG8drzvEhwruQY_ShOcb0hd2l_oju-xmrOn0zo&amp;s\"/>,\n",
       " <img alt=\"\" class=\"yWs4tf\" src=\"https://encrypted-tbn0.gstatic.com/images?q=tbn:ANd9GcRkVCHGWQ6F0FsZTHpp3z03d0VuBh1Sj-3rJjTEHyMb5_dE6QKJ6Wp7zp1-Lk8&amp;s\"/>,\n",
       " <img alt=\"\" class=\"yWs4tf\" src=\"https://encrypted-tbn0.gstatic.com/images?q=tbn:ANd9GcSCqvNK0Bk9R2jZ8x8w8e4yAAG0BE26SQKvyv17zDHGwKSOWC7VsPZw9D9XUA&amp;s\"/>,\n",
       " <img alt=\"\" class=\"yWs4tf\" src=\"https://encrypted-tbn0.gstatic.com/images?q=tbn:ANd9GcTaDDCKhP59-aYSWcxqdFxehnKaZ01eEChAIMJeJCRXpgvxkvGJXSenymi5Yn8&amp;s\"/>,\n",
       " <img alt=\"\" class=\"yWs4tf\" src=\"https://encrypted-tbn0.gstatic.com/images?q=tbn:ANd9GcT_LvK0ONMHGyS7LHtKvgxe3ISVu8vLZFyS0oRnlPnyY5qscr67Q0FmTFjmgg&amp;s\"/>,\n",
       " <img alt=\"\" class=\"yWs4tf\" src=\"https://encrypted-tbn0.gstatic.com/images?q=tbn:ANd9GcTzaYuf9ExtKlxsQzxYN9B-nIpVI-0FTX8sJUbCN7PeNdOCQN0_AtfaSiCFIw&amp;s\"/>,\n",
       " <img alt=\"\" class=\"yWs4tf\" src=\"https://encrypted-tbn0.gstatic.com/images?q=tbn:ANd9GcQCZ6goBpYuPQP86FRFT6OkcZzLgt7pipoiLqPVNi4xMCaO6U71wGPcGgEmsQ&amp;s\"/>,\n",
       " <img alt=\"\" class=\"yWs4tf\" src=\"https://encrypted-tbn0.gstatic.com/images?q=tbn:ANd9GcSznWw0-HZizz0RTtdfUBjGZnqsuOz2gTsBJKerPfKMgj4faSEKCkEmrpwzvyU&amp;s\"/>,\n",
       " <img alt=\"\" class=\"yWs4tf\" src=\"https://encrypted-tbn0.gstatic.com/images?q=tbn:ANd9GcSJI8jH1LhkuMUUpvKsBNO9UCIuzLII2FeDL7A2wvktGzxVSU4gyCDcLdpLaNo&amp;s\"/>,\n",
       " <img alt=\"\" class=\"yWs4tf\" src=\"https://encrypted-tbn0.gstatic.com/images?q=tbn:ANd9GcR4yav48aT4VqxxqfSCysz6ZLk-yb52vLAFtIIMjvgdrTNF8AqFZ9mNt0NKnLk&amp;s\"/>,\n",
       " <img alt=\"\" class=\"yWs4tf\" src=\"https://encrypted-tbn0.gstatic.com/images?q=tbn:ANd9GcR7SSH-MUNIFlCSXZO043xtrLtLBgjp9JEPwAlyZdQwoSx_DpGy95vKnC_zHGM&amp;s\"/>]"
      ]
     },
     "execution_count": 22,
     "metadata": {},
     "output_type": "execute_result"
    }
   ],
   "source": [
    "image_tag"
   ]
  },
  {
   "cell_type": "code",
   "execution_count": 23,
   "id": "b02b04a2",
   "metadata": {},
   "outputs": [
    {
     "data": {
      "text/plain": [
       "20"
      ]
     },
     "execution_count": 23,
     "metadata": {},
     "output_type": "execute_result"
    }
   ],
   "source": [
    "len(image_tag)"
   ]
  },
  {
   "cell_type": "code",
   "execution_count": 26,
   "id": "5a9b5c6f",
   "metadata": {},
   "outputs": [],
   "source": [
    "# to download all the images we need to exctract only the src in the above got output\n",
    "# for that pupose we use for loop\n",
    "\n",
    "for i in image_tag:\n",
    "    # print(i['src'])\n",
    "    image_url=i['src'] # to store the image urls\n",
    "    image_data=requests.get(image_url).content # here we request the stored image url's images\n",
    "    \n",
    "    \n",
    "    #here we use join condition beacuse each image we need to give the unique name\n",
    "    # for that pupose we use query to give as name what we search and image_tag index number for make it count and unique\n",
    "    # we download it in jpg formate so .jpg will be added\n",
    "    # we open it in write binari mode so 'wb'\n",
    "    with open(os.path.join(save_dir,f\"{query}_{image_tag.index(i)}.jpg\"),\"wb\") as f:\n",
    "        f.write(image_data)"
   ]
  },
  {
   "cell_type": "code",
   "execution_count": null,
   "id": "4faa0f99",
   "metadata": {},
   "outputs": [],
   "source": []
  }
 ],
 "metadata": {
  "kernelspec": {
   "display_name": "Python 3 (ipykernel)",
   "language": "python",
   "name": "python3"
  },
  "language_info": {
   "codemirror_mode": {
    "name": "ipython",
    "version": 3
   },
   "file_extension": ".py",
   "mimetype": "text/x-python",
   "name": "python",
   "nbconvert_exporter": "python",
   "pygments_lexer": "ipython3",
   "version": "3.9.13"
  }
 },
 "nbformat": 4,
 "nbformat_minor": 5
}
